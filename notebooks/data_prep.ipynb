{
 "cells": [
  {
   "attachments": {},
   "cell_type": "markdown",
   "metadata": {},
   "source": [
    "Imports and setup"
   ]
  },
  {
   "cell_type": "code",
   "execution_count": 38,
   "metadata": {},
   "outputs": [],
   "source": [
    "import os\n",
    "import pandas as pd\n",
    "import numpy as np\n",
    "import matplotlib.pyplot as plt"
   ]
  },
  {
   "cell_type": "code",
   "execution_count": 10,
   "metadata": {},
   "outputs": [],
   "source": [
    "#defining paths\n",
    "RAW = \"../data/raw/\"\n",
    "INTERIM = \"../data/interim/\"\n",
    "PROCESSED = \"../data/processed/\"\n",
    "\n",
    "pd.set_option(\"display.max_columns\", 50)"
   ]
  },
  {
   "attachments": {},
   "cell_type": "markdown",
   "metadata": {},
   "source": [
    "Initial data loading and checks"
   ]
  },
  {
   "cell_type": "code",
   "execution_count": 29,
   "metadata": {},
   "outputs": [],
   "source": [
    "orders = pd.read_csv(\"../data/raw/olist_orders_dataset.csv\", parse_dates=[\"order_purchase_timestamp\"])\n",
    "#orders.head()\n",
    "order_items = pd.read_csv(\"../data/raw/olist_order_items_dataset.csv\")\n",
    "#order_items.head()\n",
    "#orders.dtypes\n",
    "#order_items.dtypes"
   ]
  },
  {
   "cell_type": "code",
   "execution_count": 30,
   "metadata": {},
   "outputs": [
    {
     "name": "stdout",
     "output_type": "stream",
     "text": [
      "min   2016-09-04 21:15:19\n",
      "max   2018-10-17 17:30:18\n",
      "Name: order_purchase_timestamp, dtype: datetime64[ns]\n",
      "order_status\n",
      "delivered      96478\n",
      "shipped         1107\n",
      "canceled         625\n",
      "unavailable      609\n",
      "invoiced         314\n",
      "processing       301\n",
      "created            5\n",
      "approved           2\n",
      "Name: count, dtype: int64\n"
     ]
    }
   ],
   "source": [
    "print(orders[\"order_purchase_timestamp\"].agg([\"min\", \"max\"]))\n",
    "\n",
    "print(orders[\"order_status\"].value_counts(dropna=False))\n",
    "\n",
    "# Range of orders runs from 2016 to 2018 like mentioned in the Kaggle webpage. \n",
    "# Most of the orders are marked as delivered with some marked as \"shipped\", \"canceled\", \"unavailable\", \"invoiced\", \"processing\", \"created\", and \"approved\".\n",
    "# For modeling demand and pricing behavior, I'll only use \"delivered\" orders since they are completed sales."
   ]
  },
  {
   "cell_type": "code",
   "execution_count": 32,
   "metadata": {},
   "outputs": [
    {
     "name": "stdout",
     "output_type": "stream",
     "text": [
      "order_id                    0\n",
      "order_purchase_timestamp    0\n",
      "order_status                0\n",
      "dtype: int64\n",
      "order_id         0\n",
      "product_id       0\n",
      "price            0\n",
      "freight_value    0\n",
      "dtype: int64\n"
     ]
    }
   ],
   "source": [
    "print(orders[[\"order_id\",\"order_purchase_timestamp\",\"order_status\"]].isna().sum())\n",
    "print(order_items[[\"order_id\",\"product_id\",\"price\",\"freight_value\"]].isna().sum())\n",
    "\n",
    "# No missing values in the main columns so need not worry about having to drop rows or imputation later"
   ]
  },
  {
   "attachments": {},
   "cell_type": "markdown",
   "metadata": {},
   "source": [
    "### Filtering and creating the base dataset\n",
    "\n",
    "I'm filtering out everything except \"delivered\" orders to make sure I'm only working with completed sales since those are the ones that accurately reflect custmer demand."
   ]
  },
  {
   "cell_type": "code",
   "execution_count": 35,
   "metadata": {},
   "outputs": [
    {
     "name": "stdout",
     "output_type": "stream",
     "text": [
      "(110197, 8)\n"
     ]
    },
    {
     "data": {
      "text/html": [
       "<div>\n",
       "<style scoped>\n",
       "    .dataframe tbody tr th:only-of-type {\n",
       "        vertical-align: middle;\n",
       "    }\n",
       "\n",
       "    .dataframe tbody tr th {\n",
       "        vertical-align: top;\n",
       "    }\n",
       "\n",
       "    .dataframe thead th {\n",
       "        text-align: right;\n",
       "    }\n",
       "</style>\n",
       "<table border=\"1\" class=\"dataframe\">\n",
       "  <thead>\n",
       "    <tr style=\"text-align: right;\">\n",
       "      <th></th>\n",
       "      <th>order_id</th>\n",
       "      <th>order_item_id</th>\n",
       "      <th>product_id</th>\n",
       "      <th>seller_id</th>\n",
       "      <th>shipping_limit_date</th>\n",
       "      <th>price</th>\n",
       "      <th>freight_value</th>\n",
       "      <th>order_purchase_timestamp</th>\n",
       "    </tr>\n",
       "  </thead>\n",
       "  <tbody>\n",
       "    <tr>\n",
       "      <th>0</th>\n",
       "      <td>00010242fe8c5a6d1ba2dd792cb16214</td>\n",
       "      <td>1</td>\n",
       "      <td>4244733e06e7ecb4970a6e2683c13e61</td>\n",
       "      <td>48436dade18ac8b2bce089ec2a041202</td>\n",
       "      <td>2017-09-19 09:45:35</td>\n",
       "      <td>58.90</td>\n",
       "      <td>13.29</td>\n",
       "      <td>2017-09-13 08:59:02</td>\n",
       "    </tr>\n",
       "    <tr>\n",
       "      <th>1</th>\n",
       "      <td>00018f77f2f0320c557190d7a144bdd3</td>\n",
       "      <td>1</td>\n",
       "      <td>e5f2d52b802189ee658865ca93d83a8f</td>\n",
       "      <td>dd7ddc04e1b6c2c614352b383efe2d36</td>\n",
       "      <td>2017-05-03 11:05:13</td>\n",
       "      <td>239.90</td>\n",
       "      <td>19.93</td>\n",
       "      <td>2017-04-26 10:53:06</td>\n",
       "    </tr>\n",
       "    <tr>\n",
       "      <th>2</th>\n",
       "      <td>000229ec398224ef6ca0657da4fc703e</td>\n",
       "      <td>1</td>\n",
       "      <td>c777355d18b72b67abbeef9df44fd0fd</td>\n",
       "      <td>5b51032eddd242adc84c38acab88f23d</td>\n",
       "      <td>2018-01-18 14:48:30</td>\n",
       "      <td>199.00</td>\n",
       "      <td>17.87</td>\n",
       "      <td>2018-01-14 14:33:31</td>\n",
       "    </tr>\n",
       "    <tr>\n",
       "      <th>3</th>\n",
       "      <td>00024acbcdf0a6daa1e931b038114c75</td>\n",
       "      <td>1</td>\n",
       "      <td>7634da152a4610f1595efa32f14722fc</td>\n",
       "      <td>9d7a1d34a5052409006425275ba1c2b4</td>\n",
       "      <td>2018-08-15 10:10:18</td>\n",
       "      <td>12.99</td>\n",
       "      <td>12.79</td>\n",
       "      <td>2018-08-08 10:00:35</td>\n",
       "    </tr>\n",
       "    <tr>\n",
       "      <th>4</th>\n",
       "      <td>00042b26cf59d7ce69dfabb4e55b4fd9</td>\n",
       "      <td>1</td>\n",
       "      <td>ac6c3623068f30de03045865e4e10089</td>\n",
       "      <td>df560393f3a51e74553ab94004ba5c87</td>\n",
       "      <td>2017-02-13 13:57:51</td>\n",
       "      <td>199.90</td>\n",
       "      <td>18.14</td>\n",
       "      <td>2017-02-04 13:57:51</td>\n",
       "    </tr>\n",
       "  </tbody>\n",
       "</table>\n",
       "</div>"
      ],
      "text/plain": [
       "                           order_id  order_item_id  \\\n",
       "0  00010242fe8c5a6d1ba2dd792cb16214              1   \n",
       "1  00018f77f2f0320c557190d7a144bdd3              1   \n",
       "2  000229ec398224ef6ca0657da4fc703e              1   \n",
       "3  00024acbcdf0a6daa1e931b038114c75              1   \n",
       "4  00042b26cf59d7ce69dfabb4e55b4fd9              1   \n",
       "\n",
       "                         product_id                         seller_id  \\\n",
       "0  4244733e06e7ecb4970a6e2683c13e61  48436dade18ac8b2bce089ec2a041202   \n",
       "1  e5f2d52b802189ee658865ca93d83a8f  dd7ddc04e1b6c2c614352b383efe2d36   \n",
       "2  c777355d18b72b67abbeef9df44fd0fd  5b51032eddd242adc84c38acab88f23d   \n",
       "3  7634da152a4610f1595efa32f14722fc  9d7a1d34a5052409006425275ba1c2b4   \n",
       "4  ac6c3623068f30de03045865e4e10089  df560393f3a51e74553ab94004ba5c87   \n",
       "\n",
       "   shipping_limit_date   price  freight_value order_purchase_timestamp  \n",
       "0  2017-09-19 09:45:35   58.90          13.29      2017-09-13 08:59:02  \n",
       "1  2017-05-03 11:05:13  239.90          19.93      2017-04-26 10:53:06  \n",
       "2  2018-01-18 14:48:30  199.00          17.87      2018-01-14 14:33:31  \n",
       "3  2018-08-15 10:10:18   12.99          12.79      2018-08-08 10:00:35  \n",
       "4  2017-02-13 13:57:51  199.90          18.14      2017-02-04 13:57:51  "
      ]
     },
     "execution_count": 35,
     "metadata": {},
     "output_type": "execute_result"
    }
   ],
   "source": [
    "# filter for delivered orders\n",
    "orders_delivered = orders[orders[\"order_status\"]==\"delivered\"].copy()\n",
    "\n",
    "# merging order with order items\n",
    "order_items_merged = pd.merge(order_items, orders_delivered[[\"order_id\", \"order_purchase_timestamp\"]], on=\"order_id\", how=\"inner\")\n",
    "\n",
    "#just to check what dataset looks like now\n",
    "print(order_items_merged.shape)\n",
    "\n",
    "# saving it\n",
    "order_items_merged.to_csv(\"../data/interim/orders_items_clean.csv\", index=False)\n",
    "\n",
    "order_items_merged.head()"
   ]
  },
  {
   "attachments": {},
   "cell_type": "markdown",
   "metadata": {},
   "source": [
    "The merged file now has ~110k ros where each row represents one actual item sold (and delivered). This includes product ID, its price, freight cost, seller, and timestamp of when the order was placed. This will be the basic dataset I'll have to build everything else on."
   ]
  },
  {
   "attachments": {},
   "cell_type": "markdown",
   "metadata": {},
   "source": [
    "### Basic EDA\n",
    "\n",
    "Just to get a feel for the data and try and find any high level patterns, num of unique products/sellers, etc. Also helps confirm whether the dataset is well distributed and not just dominated by one or two sellers."
   ]
  },
  {
   "cell_type": "code",
   "execution_count": 37,
   "metadata": {},
   "outputs": [
    {
     "data": {
      "text/plain": [
       "{'Unique Orders': 96478,\n",
       " 'Unique Products': 32216,\n",
       " 'Unique Sellers': 2970,\n",
       " 'Average Price': np.float64(119.98),\n",
       " 'Average Freight': np.float64(19.95)}"
      ]
     },
     "execution_count": 37,
     "metadata": {},
     "output_type": "execute_result"
    }
   ],
   "source": [
    "# quick high level stats\n",
    "n_orders = order_items_merged[\"order_id\"].nunique()\n",
    "n_products = order_items_merged[\"product_id\"].nunique()\n",
    "n_sellers = order_items_merged[\"seller_id\"].nunique()\n",
    "\n",
    "avg_price = order_items_merged[\"price\"].mean()\n",
    "avg_freight = order_items_merged[\"freight_value\"].mean()\n",
    "\n",
    "summary = {\n",
    "    \"Unique Orders\": n_orders,\n",
    "    \"Unique Products\": n_products,\n",
    "    \"Unique Sellers\": n_sellers,\n",
    "    \"Average Price\": round(avg_price, 2),\n",
    "    \"Average Freight\": round(avg_freight, 2)\n",
    "}\n",
    "\n",
    "summary"
   ]
  },
  {
   "attachments": {},
   "cell_type": "markdown",
   "metadata": {},
   "source": [
    "Observations from markdown above:\n",
    "1) around 96k real orders placed by customers (same number as \"delivered\" orders so we can be confident that my merge worked properly and nothing we needed was dropped)\n",
    "2) over 32k unique products across around 3k sellers - this gives us enough variety to study price diffs by product or category\n",
    "3) avg price gives quick sense of scale but could be skewed by a few high prices products so can look at median and distribution to get a better picture.\n",
    "\n",
    "Overall, this looks like a solid base dataset to start exploring patterns like pricing trends and demand over different time periods"
   ]
  },
  {
   "cell_type": "code",
   "execution_count": 39,
   "metadata": {},
   "outputs": [
    {
     "name": "stdout",
     "output_type": "stream",
     "text": [
      "Median Price: 74.90\n",
      "Median Freight: 16.26\n"
     ]
    },
    {
     "data": {
      "image/png": "[encoded data removed]",
      "text/plain": [
       "<Figure size 800x500 with 1 Axes>"
      ]
     },
     "metadata": {},
     "output_type": "display_data"
    }
   ],
   "source": [
    "# Price distribution of the products\n",
    "\n",
    "median_price = order_items_merged[\"price\"].median()\n",
    "median_freight = order_items_merged[\"freight_value\"].median()\n",
    "\n",
    "print(f\"Median Price: {median_price:.2f}\")\n",
    "print(f\"Median Freight: {median_freight:.2f}\")\n",
    "\n",
    "plt.figure(figsize=(8,5))\n",
    "plt.hist(order_items_merged[\"price\"], bins=50, edgecolor='k')\n",
    "plt.title(\"Distribution of Product Prices\")\n",
    "plt.xlabel(\"Price (R$)\")\n",
    "plt.ylabel(\"Frequency\")\n",
    "plt.show()\n"
   ]
  },
  {
   "cell_type": "code",
   "execution_count": 41,
   "metadata": {},
   "outputs": [
    {
     "data": {
      "image/png": "[encoded data removed]",
      "text/plain": [
       "<Figure size 800x500 with 1 Axes>"
      ]
     },
     "metadata": {},
     "output_type": "display_data"
    }
   ],
   "source": [
    "# Just zoomed in to see a more detailed breakdown of the cheaper items which arent visible in the plot above \n",
    "plt.figure(figsize=(8,5))\n",
    "plt.hist(order_items_merged[\"price\"], bins=50, range=(0,500), edgecolor='k')\n",
    "plt.title(\"Distribution of Product Prices (0–500 R$ range)\")\n",
    "plt.xlabel(\"Price (R$)\")\n",
    "plt.ylabel(\"Frequency\")\n",
    "plt.show()\n"
   ]
  },
  {
   "attachments": {},
   "cell_type": "markdown",
   "metadata": {},
   "source": [
    "### Interpretation\n",
    "Most products fall in a lower price range with only a few expensive items priced in the thousands. This makes sense for an ecommerce dataset (Higher end products may be electronics? Can look into more product category details later)\n",
    "\n",
    "What this means for a dynamic pricing model- \n",
    "1) Can't apply the same pricing strategy to all SKUs \n",
    "2) Mean prices arent reliable so we need to use category specific percentiles to be more accurate -> possibly have to do a log transform on price data??"
   ]
  },
  {
   "cell_type": "code",
   "execution_count": 43,
   "metadata": {},
   "outputs": [
    {
     "data": {
      "text/html": [
       "<div>\n",
       "<style scoped>\n",
       "    .dataframe tbody tr th:only-of-type {\n",
       "        vertical-align: middle;\n",
       "    }\n",
       "\n",
       "    .dataframe tbody tr th {\n",
       "        vertical-align: top;\n",
       "    }\n",
       "\n",
       "    .dataframe thead th {\n",
       "        text-align: right;\n",
       "    }\n",
       "</style>\n",
       "<table border=\"1\" class=\"dataframe\">\n",
       "  <thead>\n",
       "    <tr style=\"text-align: right;\">\n",
       "      <th></th>\n",
       "      <th>order_id</th>\n",
       "      <th>order_item_id</th>\n",
       "      <th>product_id</th>\n",
       "      <th>seller_id</th>\n",
       "      <th>shipping_limit_date</th>\n",
       "      <th>price</th>\n",
       "      <th>freight_value</th>\n",
       "      <th>order_purchase_timestamp</th>\n",
       "      <th>category_name_en</th>\n",
       "    </tr>\n",
       "  </thead>\n",
       "  <tbody>\n",
       "    <tr>\n",
       "      <th>0</th>\n",
       "      <td>00010242fe8c5a6d1ba2dd792cb16214</td>\n",
       "      <td>1</td>\n",
       "      <td>4244733e06e7ecb4970a6e2683c13e61</td>\n",
       "      <td>48436dade18ac8b2bce089ec2a041202</td>\n",
       "      <td>2017-09-19 09:45:35</td>\n",
       "      <td>58.90</td>\n",
       "      <td>13.29</td>\n",
       "      <td>2017-09-13 08:59:02</td>\n",
       "      <td>cool_stuff</td>\n",
       "    </tr>\n",
       "    <tr>\n",
       "      <th>1</th>\n",
       "      <td>00018f77f2f0320c557190d7a144bdd3</td>\n",
       "      <td>1</td>\n",
       "      <td>e5f2d52b802189ee658865ca93d83a8f</td>\n",
       "      <td>dd7ddc04e1b6c2c614352b383efe2d36</td>\n",
       "      <td>2017-05-03 11:05:13</td>\n",
       "      <td>239.90</td>\n",
       "      <td>19.93</td>\n",
       "      <td>2017-04-26 10:53:06</td>\n",
       "      <td>pet_shop</td>\n",
       "    </tr>\n",
       "    <tr>\n",
       "      <th>2</th>\n",
       "      <td>000229ec398224ef6ca0657da4fc703e</td>\n",
       "      <td>1</td>\n",
       "      <td>c777355d18b72b67abbeef9df44fd0fd</td>\n",
       "      <td>5b51032eddd242adc84c38acab88f23d</td>\n",
       "      <td>2018-01-18 14:48:30</td>\n",
       "      <td>199.00</td>\n",
       "      <td>17.87</td>\n",
       "      <td>2018-01-14 14:33:31</td>\n",
       "      <td>furniture_decor</td>\n",
       "    </tr>\n",
       "    <tr>\n",
       "      <th>3</th>\n",
       "      <td>00024acbcdf0a6daa1e931b038114c75</td>\n",
       "      <td>1</td>\n",
       "      <td>7634da152a4610f1595efa32f14722fc</td>\n",
       "      <td>9d7a1d34a5052409006425275ba1c2b4</td>\n",
       "      <td>2018-08-15 10:10:18</td>\n",
       "      <td>12.99</td>\n",
       "      <td>12.79</td>\n",
       "      <td>2018-08-08 10:00:35</td>\n",
       "      <td>perfumery</td>\n",
       "    </tr>\n",
       "    <tr>\n",
       "      <th>4</th>\n",
       "      <td>00042b26cf59d7ce69dfabb4e55b4fd9</td>\n",
       "      <td>1</td>\n",
       "      <td>ac6c3623068f30de03045865e4e10089</td>\n",
       "      <td>df560393f3a51e74553ab94004ba5c87</td>\n",
       "      <td>2017-02-13 13:57:51</td>\n",
       "      <td>199.90</td>\n",
       "      <td>18.14</td>\n",
       "      <td>2017-02-04 13:57:51</td>\n",
       "      <td>garden_tools</td>\n",
       "    </tr>\n",
       "  </tbody>\n",
       "</table>\n",
       "</div>"
      ],
      "text/plain": [
       "                           order_id  order_item_id  \\\n",
       "0  00010242fe8c5a6d1ba2dd792cb16214              1   \n",
       "1  00018f77f2f0320c557190d7a144bdd3              1   \n",
       "2  000229ec398224ef6ca0657da4fc703e              1   \n",
       "3  00024acbcdf0a6daa1e931b038114c75              1   \n",
       "4  00042b26cf59d7ce69dfabb4e55b4fd9              1   \n",
       "\n",
       "                         product_id                         seller_id  \\\n",
       "0  4244733e06e7ecb4970a6e2683c13e61  48436dade18ac8b2bce089ec2a041202   \n",
       "1  e5f2d52b802189ee658865ca93d83a8f  dd7ddc04e1b6c2c614352b383efe2d36   \n",
       "2  c777355d18b72b67abbeef9df44fd0fd  5b51032eddd242adc84c38acab88f23d   \n",
       "3  7634da152a4610f1595efa32f14722fc  9d7a1d34a5052409006425275ba1c2b4   \n",
       "4  ac6c3623068f30de03045865e4e10089  df560393f3a51e74553ab94004ba5c87   \n",
       "\n",
       "   shipping_limit_date   price  freight_value order_purchase_timestamp  \\\n",
       "0  2017-09-19 09:45:35   58.90          13.29      2017-09-13 08:59:02   \n",
       "1  2017-05-03 11:05:13  239.90          19.93      2017-04-26 10:53:06   \n",
       "2  2018-01-18 14:48:30  199.00          17.87      2018-01-14 14:33:31   \n",
       "3  2018-08-15 10:10:18   12.99          12.79      2018-08-08 10:00:35   \n",
       "4  2017-02-13 13:57:51  199.90          18.14      2017-02-04 13:57:51   \n",
       "\n",
       "  category_name_en  \n",
       "0       cool_stuff  \n",
       "1         pet_shop  \n",
       "2  furniture_decor  \n",
       "3        perfumery  \n",
       "4     garden_tools  "
      ]
     },
     "execution_count": 43,
     "metadata": {},
     "output_type": "execute_result"
    }
   ],
   "source": [
    "# The product category names are in portuguese in the original products file so use the translation file provided to \n",
    "#convert to English names\n",
    "\n",
    "# read the products file\n",
    "products = pd.read_csv(\"../data/raw/olist_products_dataset.csv\")\n",
    "\n",
    "# read translation file\n",
    "translation = pd.read_csv(\"../data/raw/product_category_name_translation.csv\")\n",
    "\n",
    "# merge with products\n",
    "products = pd.merge(products, translation, on=\"product_category_name\", how=\"left\")\n",
    "\n",
    "# rename for clarity\n",
    "products.rename(columns={\"product_category_name_english\": \"category_name_en\"}, inplace=True)\n",
    "\n",
    "#merging this version with the main base dataset i created earlier\n",
    "merged_with_category = order_items_merged.merge(products[[\"product_id\", \"category_name_en\"]], on=\"product_id\", how=\"left\")\n",
    "\n",
    "merged_with_category.head()\n"
   ]
  },
  {
   "cell_type": "code",
   "execution_count": 45,
   "metadata": {},
   "outputs": [
    {
     "data": {
      "text/html": [
       "<div>\n",
       "<style scoped>\n",
       "    .dataframe tbody tr th:only-of-type {\n",
       "        vertical-align: middle;\n",
       "    }\n",
       "\n",
       "    .dataframe tbody tr th {\n",
       "        vertical-align: top;\n",
       "    }\n",
       "\n",
       "    .dataframe thead th {\n",
       "        text-align: right;\n",
       "    }\n",
       "</style>\n",
       "<table border=\"1\" class=\"dataframe\">\n",
       "  <thead>\n",
       "    <tr style=\"text-align: right;\">\n",
       "      <th></th>\n",
       "      <th>count</th>\n",
       "      <th>mean</th>\n",
       "      <th>median</th>\n",
       "      <th>std</th>\n",
       "    </tr>\n",
       "    <tr>\n",
       "      <th>category_name_en</th>\n",
       "      <th></th>\n",
       "      <th></th>\n",
       "      <th></th>\n",
       "      <th></th>\n",
       "    </tr>\n",
       "  </thead>\n",
       "  <tbody>\n",
       "    <tr>\n",
       "      <th>computers</th>\n",
       "      <td>199</td>\n",
       "      <td>1098.915276</td>\n",
       "      <td>1100.00</td>\n",
       "      <td>672.496840</td>\n",
       "    </tr>\n",
       "    <tr>\n",
       "      <th>small_appliances_home_oven_and_coffee</th>\n",
       "      <td>73</td>\n",
       "      <td>638.213151</td>\n",
       "      <td>640.99</td>\n",
       "      <td>616.895620</td>\n",
       "    </tr>\n",
       "    <tr>\n",
       "      <th>home_appliances_2</th>\n",
       "      <td>231</td>\n",
       "      <td>467.333117</td>\n",
       "      <td>227.99</td>\n",
       "      <td>530.601492</td>\n",
       "    </tr>\n",
       "    <tr>\n",
       "      <th>agro_industry_and_commerce</th>\n",
       "      <td>206</td>\n",
       "      <td>342.553883</td>\n",
       "      <td>243.75</td>\n",
       "      <td>424.010065</td>\n",
       "    </tr>\n",
       "    <tr>\n",
       "      <th>musical_instruments</th>\n",
       "      <td>651</td>\n",
       "      <td>283.127097</td>\n",
       "      <td>94.90</td>\n",
       "      <td>446.411304</td>\n",
       "    </tr>\n",
       "    <tr>\n",
       "      <th>small_appliances</th>\n",
       "      <td>658</td>\n",
       "      <td>277.741824</td>\n",
       "      <td>98.36</td>\n",
       "      <td>476.525999</td>\n",
       "    </tr>\n",
       "    <tr>\n",
       "      <th>fixed_telephony</th>\n",
       "      <td>255</td>\n",
       "      <td>216.922392</td>\n",
       "      <td>49.00</td>\n",
       "      <td>419.719367</td>\n",
       "    </tr>\n",
       "    <tr>\n",
       "      <th>construction_tools_safety</th>\n",
       "      <td>183</td>\n",
       "      <td>211.875519</td>\n",
       "      <td>115.00</td>\n",
       "      <td>327.121069</td>\n",
       "    </tr>\n",
       "    <tr>\n",
       "      <th>watches_gifts</th>\n",
       "      <td>5859</td>\n",
       "      <td>199.040276</td>\n",
       "      <td>128.99</td>\n",
       "      <td>253.798436</td>\n",
       "    </tr>\n",
       "    <tr>\n",
       "      <th>furniture_bedroom</th>\n",
       "      <td>103</td>\n",
       "      <td>184.968932</td>\n",
       "      <td>179.00</td>\n",
       "      <td>123.248504</td>\n",
       "    </tr>\n",
       "  </tbody>\n",
       "</table>\n",
       "</div>"
      ],
      "text/plain": [
       "                                       count         mean   median         std\n",
       "category_name_en                                                              \n",
       "computers                                199  1098.915276  1100.00  672.496840\n",
       "small_appliances_home_oven_and_coffee     73   638.213151   640.99  616.895620\n",
       "home_appliances_2                        231   467.333117   227.99  530.601492\n",
       "agro_industry_and_commerce               206   342.553883   243.75  424.010065\n",
       "musical_instruments                      651   283.127097    94.90  446.411304\n",
       "small_appliances                         658   277.741824    98.36  476.525999\n",
       "fixed_telephony                          255   216.922392    49.00  419.719367\n",
       "construction_tools_safety                183   211.875519   115.00  327.121069\n",
       "watches_gifts                           5859   199.040276   128.99  253.798436\n",
       "furniture_bedroom                        103   184.968932   179.00  123.248504"
      ]
     },
     "execution_count": 45,
     "metadata": {},
     "output_type": "execute_result"
    }
   ],
   "source": [
    "# Getting more category specific stats/breakdown\n",
    "\n",
    "# group by category and get summary stats\n",
    "category_price_summary = (\n",
    "    merged_with_category.groupby(\"category_name_en\")[\"price\"]\n",
    "    .agg([\"count\", \"mean\", \"median\", \"std\"])\n",
    "    .sort_values(\"mean\", ascending=False)\n",
    ")\n",
    "\n",
    "category_price_summary.head(10)"
   ]
  },
  {
   "cell_type": "code",
   "execution_count": 48,
   "metadata": {},
   "outputs": [
    {
     "data": {
      "image/png": "[encoded data removed]",
      "text/plain": [
       "<Figure size 1000x500 with 1 Axes>"
      ]
     },
     "metadata": {},
     "output_type": "display_data"
    }
   ],
   "source": [
    "# Visualizing top categories by avg price\n",
    "\n",
    "topN = 12\n",
    "top_categories = (\n",
    "    merged_with_category.groupby(\"category_name_en\")[\"price\"]\n",
    "    .mean()\n",
    "    .sort_values(ascending=False)\n",
    "    .head(topN)\n",
    ")\n",
    "\n",
    "ax = top_categories.plot(kind=\"bar\", figsize=(10,5), edgecolor=\"k\")\n",
    "ax.set_title(f\"Top {topN} Categories by avg price\")\n",
    "ax.set_ylabel(\"Average Price (R$)\")\n",
    "ax.set_xlabel(\"Product Category\")\n",
    "ax.tick_params(axis=\"x\", rotation=90)"
   ]
  },
  {
   "attachments": {},
   "cell_type": "markdown",
   "metadata": {},
   "source": [
    "### Observations\n",
    "\n",
    "1) Some category names seem redundant. \"small_appliances_home_oven_and_coffee\" and \"small_appliances\", \"home_appliances_2\" implies a \"home_appliances_1\"??.\n",
    "\n",
    "These may be because of inconsistent translations from the file provided or just sub splits of the same product lines. Somethnig to keep in mind when doing actual modeling work. Maybe standardize category labels to make it cleaner??"
   ]
  },
  {
   "attachments": {},
   "cell_type": "markdown",
   "metadata": {},
   "source": [
    "### Next steps\n",
    "\n",
    "1) Start aggregating sales over time to identify any trends/demand fluctuations/seasonality"
   ]
  },
  {
   "cell_type": "markdown",
   "metadata": {},
   "source": []
  }
 ],
 "metadata": {
  "kernelspec": {
   "display_name": "Python (ML Journal)",
   "language": "python",
   "name": "ml-journal"
  },
  "language_info": {
   "codemirror_mode": {
    "name": "ipython",
    "version": 3
   },
   "file_extension": ".py",
   "mimetype": "text/x-python",
   "name": "python",
   "nbconvert_exporter": "python",
   "pygments_lexer": "ipython3",
   "version": "3.11.0"
  },
  "orig_nbformat": 4,
  "vscode": {
   "interpreter": {
    "hash": "b0fa6594d8f4cbf19f97940f81e996739fb7646882a419484c72d19e05852a7e"
   }
  }
 },
 "nbformat": 4,
 "nbformat_minor": 2
}
